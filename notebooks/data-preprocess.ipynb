{
 "cells": [
  {
   "cell_type": "code",
   "execution_count": 87,
   "metadata": {},
   "outputs": [],
   "source": [
    "#| default_exp train.load_data"
   ]
  },
  {
   "cell_type": "markdown",
   "metadata": {},
   "source": [
    "We don't have the full dataset however the partial dataset should be fine to protype on. We need to see how exactly we need to set up the data.\n",
    "\n",
    "We have for our ingredients, the weight (which we're ignoring just now), and its molecule_df id. We need to quickly adjust the molecule_db matching to match directly with the tokens of it. "
   ]
  },
  {
   "cell_type": "markdown",
   "metadata": {},
   "source": [
    "# Setup"
   ]
  },
  {
   "cell_type": "code",
   "execution_count": 2,
   "metadata": {},
   "outputs": [],
   "source": [
    "#| export\n",
    "from pyprojroot import here\n",
    "root = here()\n",
    "import sys\n",
    "sys.path.append(str(root))"
   ]
  },
  {
   "cell_type": "code",
   "execution_count": 3,
   "metadata": {},
   "outputs": [],
   "source": [
    "#| export\n",
    "import pandas as pd\n",
    "import numpy as np\n",
    "import torch\n",
    "from torch.utils.data import Dataset, DataLoader\n",
    "from operator import itemgetter\n",
    "import random\n",
    "from itertools import islice"
   ]
  },
  {
   "cell_type": "code",
   "execution_count": 4,
   "metadata": {},
   "outputs": [],
   "source": [
    "food_ids = pd.read_feather(f'{root}/../data/local/molecule/full/food_ids/0_primary_join.feather')"
   ]
  },
  {
   "cell_type": "code",
   "execution_count": 5,
   "metadata": {},
   "outputs": [],
   "source": [
    "#| export \n",
    "food_compounds_df = pd.read_feather(f'{root}/../data/local/molecule/full/food_compounds/0.feather')"
   ]
  },
  {
   "cell_type": "markdown",
   "metadata": {},
   "source": [
    "# Creating special tokens"
   ]
  },
  {
   "cell_type": "markdown",
   "metadata": {},
   "source": [
    "- `[PAD]` - vector of zeros\n",
    "- `[MASK]` - vector of ones?\n",
    "- `[UNKNOWN]` - random or mean vector?\n",
    "\n",
    "#TODO: Look into how to initialise these."
   ]
  },
  {
   "cell_type": "markdown",
   "metadata": {},
   "source": [
    "For easiest use, it would be nice if we could index these from the beginning."
   ]
  },
  {
   "cell_type": "code",
   "execution_count": 6,
   "metadata": {},
   "outputs": [],
   "source": [
    "special_token_idxs = {\n",
    "    'pad': 0, 'mask': 1, 'unknown': 2, \n",
    "}"
   ]
  },
  {
   "cell_type": "code",
   "execution_count": 7,
   "metadata": {},
   "outputs": [
    {
     "data": {
      "text/html": [
       "<div>\n",
       "<style scoped>\n",
       "    .dataframe tbody tr th:only-of-type {\n",
       "        vertical-align: middle;\n",
       "    }\n",
       "\n",
       "    .dataframe tbody tr th {\n",
       "        vertical-align: top;\n",
       "    }\n",
       "\n",
       "    .dataframe thead th {\n",
       "        text-align: right;\n",
       "    }\n",
       "</style>\n",
       "<table border=\"1\" class=\"dataframe\">\n",
       "  <thead>\n",
       "    <tr style=\"text-align: right;\">\n",
       "      <th>source_id</th>\n",
       "      <th>108</th>\n",
       "      <th>136</th>\n",
       "      <th>236</th>\n",
       "      <th>237</th>\n",
       "      <th>247</th>\n",
       "      <th>248</th>\n",
       "      <th>249</th>\n",
       "      <th>307</th>\n",
       "      <th>312</th>\n",
       "      <th>313</th>\n",
       "      <th>...</th>\n",
       "      <th>122183</th>\n",
       "      <th>122207</th>\n",
       "      <th>122257</th>\n",
       "      <th>122370</th>\n",
       "      <th>122486</th>\n",
       "      <th>122510</th>\n",
       "      <th>123210</th>\n",
       "      <th>125087</th>\n",
       "      <th>125196</th>\n",
       "      <th>125197</th>\n",
       "    </tr>\n",
       "    <tr>\n",
       "      <th>id</th>\n",
       "      <th></th>\n",
       "      <th></th>\n",
       "      <th></th>\n",
       "      <th></th>\n",
       "      <th></th>\n",
       "      <th></th>\n",
       "      <th></th>\n",
       "      <th></th>\n",
       "      <th></th>\n",
       "      <th></th>\n",
       "      <th></th>\n",
       "      <th></th>\n",
       "      <th></th>\n",
       "      <th></th>\n",
       "      <th></th>\n",
       "      <th></th>\n",
       "      <th></th>\n",
       "      <th></th>\n",
       "      <th></th>\n",
       "      <th></th>\n",
       "      <th></th>\n",
       "    </tr>\n",
       "  </thead>\n",
       "  <tbody>\n",
       "    <tr>\n",
       "      <th>0</th>\n",
       "      <td>0.0</td>\n",
       "      <td>0.0</td>\n",
       "      <td>0.109333</td>\n",
       "      <td>0.0</td>\n",
       "      <td>0.0</td>\n",
       "      <td>0.0</td>\n",
       "      <td>0.0</td>\n",
       "      <td>0.0</td>\n",
       "      <td>0.0</td>\n",
       "      <td>0.0</td>\n",
       "      <td>...</td>\n",
       "      <td>23.49215</td>\n",
       "      <td>9.498727</td>\n",
       "      <td>2.253628</td>\n",
       "      <td>9.376545</td>\n",
       "      <td>9.376545</td>\n",
       "      <td>24.419212</td>\n",
       "      <td>0.023016</td>\n",
       "      <td>0.0</td>\n",
       "      <td>0.0</td>\n",
       "      <td>0.000000</td>\n",
       "    </tr>\n",
       "    <tr>\n",
       "      <th>1</th>\n",
       "      <td>0.0</td>\n",
       "      <td>0.0</td>\n",
       "      <td>0.109333</td>\n",
       "      <td>0.0</td>\n",
       "      <td>0.0</td>\n",
       "      <td>0.0</td>\n",
       "      <td>0.0</td>\n",
       "      <td>0.0</td>\n",
       "      <td>0.0</td>\n",
       "      <td>0.0</td>\n",
       "      <td>...</td>\n",
       "      <td>23.49215</td>\n",
       "      <td>9.498727</td>\n",
       "      <td>2.253628</td>\n",
       "      <td>9.376545</td>\n",
       "      <td>9.376545</td>\n",
       "      <td>24.419212</td>\n",
       "      <td>0.023016</td>\n",
       "      <td>0.0</td>\n",
       "      <td>0.0</td>\n",
       "      <td>1.223189</td>\n",
       "    </tr>\n",
       "    <tr>\n",
       "      <th>2</th>\n",
       "      <td>0.0</td>\n",
       "      <td>0.0</td>\n",
       "      <td>0.109333</td>\n",
       "      <td>0.0</td>\n",
       "      <td>0.0</td>\n",
       "      <td>0.0</td>\n",
       "      <td>0.0</td>\n",
       "      <td>0.0</td>\n",
       "      <td>0.0</td>\n",
       "      <td>0.0</td>\n",
       "      <td>...</td>\n",
       "      <td>23.49215</td>\n",
       "      <td>9.498727</td>\n",
       "      <td>2.253628</td>\n",
       "      <td>9.376545</td>\n",
       "      <td>9.376545</td>\n",
       "      <td>24.419212</td>\n",
       "      <td>0.023016</td>\n",
       "      <td>0.0</td>\n",
       "      <td>0.0</td>\n",
       "      <td>0.000000</td>\n",
       "    </tr>\n",
       "    <tr>\n",
       "      <th>3</th>\n",
       "      <td>0.0</td>\n",
       "      <td>0.0</td>\n",
       "      <td>0.000000</td>\n",
       "      <td>0.0</td>\n",
       "      <td>0.0</td>\n",
       "      <td>0.0</td>\n",
       "      <td>0.0</td>\n",
       "      <td>0.0</td>\n",
       "      <td>0.0</td>\n",
       "      <td>0.0</td>\n",
       "      <td>...</td>\n",
       "      <td>0.00000</td>\n",
       "      <td>0.000000</td>\n",
       "      <td>0.000000</td>\n",
       "      <td>0.000000</td>\n",
       "      <td>0.000000</td>\n",
       "      <td>0.000000</td>\n",
       "      <td>0.000000</td>\n",
       "      <td>0.0</td>\n",
       "      <td>0.0</td>\n",
       "      <td>0.000000</td>\n",
       "    </tr>\n",
       "    <tr>\n",
       "      <th>4</th>\n",
       "      <td>0.0</td>\n",
       "      <td>0.0</td>\n",
       "      <td>0.109333</td>\n",
       "      <td>0.0</td>\n",
       "      <td>0.0</td>\n",
       "      <td>0.0</td>\n",
       "      <td>0.0</td>\n",
       "      <td>0.0</td>\n",
       "      <td>0.0</td>\n",
       "      <td>0.0</td>\n",
       "      <td>...</td>\n",
       "      <td>23.49215</td>\n",
       "      <td>9.498727</td>\n",
       "      <td>2.253628</td>\n",
       "      <td>9.376545</td>\n",
       "      <td>9.376545</td>\n",
       "      <td>24.419212</td>\n",
       "      <td>0.023016</td>\n",
       "      <td>0.0</td>\n",
       "      <td>0.0</td>\n",
       "      <td>0.000000</td>\n",
       "    </tr>\n",
       "    <tr>\n",
       "      <th>...</th>\n",
       "      <td>...</td>\n",
       "      <td>...</td>\n",
       "      <td>...</td>\n",
       "      <td>...</td>\n",
       "      <td>...</td>\n",
       "      <td>...</td>\n",
       "      <td>...</td>\n",
       "      <td>...</td>\n",
       "      <td>...</td>\n",
       "      <td>...</td>\n",
       "      <td>...</td>\n",
       "      <td>...</td>\n",
       "      <td>...</td>\n",
       "      <td>...</td>\n",
       "      <td>...</td>\n",
       "      <td>...</td>\n",
       "      <td>...</td>\n",
       "      <td>...</td>\n",
       "      <td>...</td>\n",
       "      <td>...</td>\n",
       "      <td>...</td>\n",
       "    </tr>\n",
       "    <tr>\n",
       "      <th>1101</th>\n",
       "      <td>0.0</td>\n",
       "      <td>0.0</td>\n",
       "      <td>0.000000</td>\n",
       "      <td>0.0</td>\n",
       "      <td>0.0</td>\n",
       "      <td>0.0</td>\n",
       "      <td>0.0</td>\n",
       "      <td>0.0</td>\n",
       "      <td>0.0</td>\n",
       "      <td>0.0</td>\n",
       "      <td>...</td>\n",
       "      <td>23.49215</td>\n",
       "      <td>9.498727</td>\n",
       "      <td>2.253628</td>\n",
       "      <td>9.376545</td>\n",
       "      <td>9.376545</td>\n",
       "      <td>24.419212</td>\n",
       "      <td>0.023016</td>\n",
       "      <td>0.0</td>\n",
       "      <td>0.0</td>\n",
       "      <td>0.000000</td>\n",
       "    </tr>\n",
       "    <tr>\n",
       "      <th>1102</th>\n",
       "      <td>0.0</td>\n",
       "      <td>0.0</td>\n",
       "      <td>0.109333</td>\n",
       "      <td>0.0</td>\n",
       "      <td>0.0</td>\n",
       "      <td>0.0</td>\n",
       "      <td>0.0</td>\n",
       "      <td>0.0</td>\n",
       "      <td>0.0</td>\n",
       "      <td>0.0</td>\n",
       "      <td>...</td>\n",
       "      <td>23.49215</td>\n",
       "      <td>9.498727</td>\n",
       "      <td>2.253628</td>\n",
       "      <td>9.376545</td>\n",
       "      <td>9.376545</td>\n",
       "      <td>24.419212</td>\n",
       "      <td>0.023016</td>\n",
       "      <td>0.0</td>\n",
       "      <td>0.0</td>\n",
       "      <td>0.000000</td>\n",
       "    </tr>\n",
       "    <tr>\n",
       "      <th>1103</th>\n",
       "      <td>0.0</td>\n",
       "      <td>0.0</td>\n",
       "      <td>0.000000</td>\n",
       "      <td>0.0</td>\n",
       "      <td>0.0</td>\n",
       "      <td>0.0</td>\n",
       "      <td>0.0</td>\n",
       "      <td>0.0</td>\n",
       "      <td>0.0</td>\n",
       "      <td>0.0</td>\n",
       "      <td>...</td>\n",
       "      <td>0.00000</td>\n",
       "      <td>0.000000</td>\n",
       "      <td>0.000000</td>\n",
       "      <td>0.000000</td>\n",
       "      <td>0.000000</td>\n",
       "      <td>0.000000</td>\n",
       "      <td>0.000000</td>\n",
       "      <td>0.0</td>\n",
       "      <td>0.0</td>\n",
       "      <td>0.000000</td>\n",
       "    </tr>\n",
       "    <tr>\n",
       "      <th>1104</th>\n",
       "      <td>0.0</td>\n",
       "      <td>0.0</td>\n",
       "      <td>0.000000</td>\n",
       "      <td>0.0</td>\n",
       "      <td>0.0</td>\n",
       "      <td>0.0</td>\n",
       "      <td>0.0</td>\n",
       "      <td>0.0</td>\n",
       "      <td>0.0</td>\n",
       "      <td>0.0</td>\n",
       "      <td>...</td>\n",
       "      <td>23.49215</td>\n",
       "      <td>9.498727</td>\n",
       "      <td>2.253628</td>\n",
       "      <td>9.376545</td>\n",
       "      <td>9.376545</td>\n",
       "      <td>24.419212</td>\n",
       "      <td>0.023016</td>\n",
       "      <td>0.0</td>\n",
       "      <td>0.0</td>\n",
       "      <td>0.000000</td>\n",
       "    </tr>\n",
       "    <tr>\n",
       "      <th>1105</th>\n",
       "      <td>0.0</td>\n",
       "      <td>0.0</td>\n",
       "      <td>0.000000</td>\n",
       "      <td>0.0</td>\n",
       "      <td>0.0</td>\n",
       "      <td>0.0</td>\n",
       "      <td>0.0</td>\n",
       "      <td>0.0</td>\n",
       "      <td>0.0</td>\n",
       "      <td>0.0</td>\n",
       "      <td>...</td>\n",
       "      <td>23.49215</td>\n",
       "      <td>9.498727</td>\n",
       "      <td>2.253628</td>\n",
       "      <td>9.376545</td>\n",
       "      <td>9.376545</td>\n",
       "      <td>24.419212</td>\n",
       "      <td>0.023016</td>\n",
       "      <td>0.0</td>\n",
       "      <td>0.0</td>\n",
       "      <td>0.000000</td>\n",
       "    </tr>\n",
       "  </tbody>\n",
       "</table>\n",
       "<p>1106 rows × 713 columns</p>\n",
       "</div>"
      ],
      "text/plain": [
       "source_id  108     136       236     237     247     248     249     307     \\\n",
       "id                                                                            \n",
       "0             0.0     0.0  0.109333     0.0     0.0     0.0     0.0     0.0   \n",
       "1             0.0     0.0  0.109333     0.0     0.0     0.0     0.0     0.0   \n",
       "2             0.0     0.0  0.109333     0.0     0.0     0.0     0.0     0.0   \n",
       "3             0.0     0.0  0.000000     0.0     0.0     0.0     0.0     0.0   \n",
       "4             0.0     0.0  0.109333     0.0     0.0     0.0     0.0     0.0   \n",
       "...           ...     ...       ...     ...     ...     ...     ...     ...   \n",
       "1101          0.0     0.0  0.000000     0.0     0.0     0.0     0.0     0.0   \n",
       "1102          0.0     0.0  0.109333     0.0     0.0     0.0     0.0     0.0   \n",
       "1103          0.0     0.0  0.000000     0.0     0.0     0.0     0.0     0.0   \n",
       "1104          0.0     0.0  0.000000     0.0     0.0     0.0     0.0     0.0   \n",
       "1105          0.0     0.0  0.000000     0.0     0.0     0.0     0.0     0.0   \n",
       "\n",
       "source_id  312     313     ...    122183    122207    122257    122370  \\\n",
       "id                         ...                                           \n",
       "0             0.0     0.0  ...  23.49215  9.498727  2.253628  9.376545   \n",
       "1             0.0     0.0  ...  23.49215  9.498727  2.253628  9.376545   \n",
       "2             0.0     0.0  ...  23.49215  9.498727  2.253628  9.376545   \n",
       "3             0.0     0.0  ...   0.00000  0.000000  0.000000  0.000000   \n",
       "4             0.0     0.0  ...  23.49215  9.498727  2.253628  9.376545   \n",
       "...           ...     ...  ...       ...       ...       ...       ...   \n",
       "1101          0.0     0.0  ...  23.49215  9.498727  2.253628  9.376545   \n",
       "1102          0.0     0.0  ...  23.49215  9.498727  2.253628  9.376545   \n",
       "1103          0.0     0.0  ...   0.00000  0.000000  0.000000  0.000000   \n",
       "1104          0.0     0.0  ...  23.49215  9.498727  2.253628  9.376545   \n",
       "1105          0.0     0.0  ...  23.49215  9.498727  2.253628  9.376545   \n",
       "\n",
       "source_id    122486     122510    123210  125087  125196    125197  \n",
       "id                                                                  \n",
       "0          9.376545  24.419212  0.023016     0.0     0.0  0.000000  \n",
       "1          9.376545  24.419212  0.023016     0.0     0.0  1.223189  \n",
       "2          9.376545  24.419212  0.023016     0.0     0.0  0.000000  \n",
       "3          0.000000   0.000000  0.000000     0.0     0.0  0.000000  \n",
       "4          9.376545  24.419212  0.023016     0.0     0.0  0.000000  \n",
       "...             ...        ...       ...     ...     ...       ...  \n",
       "1101       9.376545  24.419212  0.023016     0.0     0.0  0.000000  \n",
       "1102       9.376545  24.419212  0.023016     0.0     0.0  0.000000  \n",
       "1103       0.000000   0.000000  0.000000     0.0     0.0  0.000000  \n",
       "1104       9.376545  24.419212  0.023016     0.0     0.0  0.000000  \n",
       "1105       9.376545  24.419212  0.023016     0.0     0.0  0.000000  \n",
       "\n",
       "[1106 rows x 713 columns]"
      ]
     },
     "execution_count": 7,
     "metadata": {},
     "output_type": "execute_result"
    }
   ],
   "source": [
    "food_compounds_df.astype('float')"
   ]
  },
  {
   "cell_type": "code",
   "execution_count": 8,
   "metadata": {},
   "outputs": [
    {
     "data": {
      "text/plain": [
       "(1106, 713)"
      ]
     },
     "execution_count": 8,
     "metadata": {},
     "output_type": "execute_result"
    }
   ],
   "source": [
    "food_compounds = food_compounds_df.astype('float').to_numpy()\n",
    "food_compounds.shape"
   ]
  },
  {
   "cell_type": "code",
   "execution_count": 9,
   "metadata": {},
   "outputs": [
    {
     "data": {
      "text/plain": [
       "(array([[0.00000000e+00, 0.00000000e+00, 0.00000000e+00, ...,\n",
       "         0.00000000e+00, 0.00000000e+00, 0.00000000e+00],\n",
       "        [1.00000000e+00, 1.00000000e+00, 1.00000000e+00, ...,\n",
       "         1.00000000e+00, 1.00000000e+00, 1.00000000e+00],\n",
       "        [1.03842678e-02, 3.41922851e-01, 3.79929178e-02, ...,\n",
       "         5.36278835e-02, 5.80837997e-04, 6.96753373e-02]]),\n",
       " (3, 713))"
      ]
     },
     "execution_count": 9,
     "metadata": {},
     "output_type": "execute_result"
    }
   ],
   "source": [
    "special_tokens = np.vstack([np.zeros([1, food_compounds.shape[1]]), np.ones([1, food_compounds.shape[1]]), food_compounds.mean(axis=0)])\n",
    "special_tokens, special_tokens.shape"
   ]
  },
  {
   "cell_type": "code",
   "execution_count": 10,
   "metadata": {},
   "outputs": [
    {
     "data": {
      "text/plain": [
       "(713,)"
      ]
     },
     "execution_count": 10,
     "metadata": {},
     "output_type": "execute_result"
    }
   ],
   "source": [
    "food_compounds.mean(axis=0).shape"
   ]
  },
  {
   "cell_type": "code",
   "execution_count": 11,
   "metadata": {},
   "outputs": [
    {
     "data": {
      "text/plain": [
       "(1109, 713)"
      ]
     },
     "execution_count": 11,
     "metadata": {},
     "output_type": "execute_result"
    }
   ],
   "source": [
    "food_compounds = np.append(special_tokens, food_compounds, axis=0)\n",
    "food_compounds.shape"
   ]
  },
  {
   "cell_type": "code",
   "execution_count": 12,
   "metadata": {},
   "outputs": [
    {
     "data": {
      "text/plain": [
       "array([[0.00000000e+00, 0.00000000e+00, 0.00000000e+00, ...,\n",
       "        0.00000000e+00, 0.00000000e+00, 0.00000000e+00],\n",
       "       [1.00000000e+00, 1.00000000e+00, 1.00000000e+00, ...,\n",
       "        1.00000000e+00, 1.00000000e+00, 1.00000000e+00],\n",
       "       [1.03842678e-02, 3.41922851e-01, 3.79929178e-02, ...,\n",
       "        5.36278835e-02, 5.80837997e-04, 6.96753373e-02],\n",
       "       [0.00000000e+00, 0.00000000e+00, 1.09333334e-01, ...,\n",
       "        0.00000000e+00, 0.00000000e+00, 0.00000000e+00],\n",
       "       [0.00000000e+00, 0.00000000e+00, 1.09333334e-01, ...,\n",
       "        0.00000000e+00, 0.00000000e+00, 1.22318925e+00]])"
      ]
     },
     "execution_count": 12,
     "metadata": {},
     "output_type": "execute_result"
    }
   ],
   "source": [
    "food_compounds[:5]"
   ]
  },
  {
   "cell_type": "code",
   "execution_count": 13,
   "metadata": {},
   "outputs": [
    {
     "data": {
      "text/plain": [
       "dtype('float64')"
      ]
     },
     "execution_count": 13,
     "metadata": {},
     "output_type": "execute_result"
    }
   ],
   "source": [
    "food_compounds.dtype"
   ]
  },
  {
   "cell_type": "code",
   "execution_count": 14,
   "metadata": {},
   "outputs": [],
   "source": [
    "np.save('../../data/local/final/full/food_compounds/0.npy', food_compounds)"
   ]
  },
  {
   "cell_type": "markdown",
   "metadata": {},
   "source": [
    "# Creating Recipe Data"
   ]
  },
  {
   "cell_type": "code",
   "execution_count": 15,
   "metadata": {},
   "outputs": [],
   "source": [
    "# shifting id's to account for addition of special tokens\n",
    "food_ids[0] = food_ids[0].apply(lambda id: id + len(special_token_idxs.keys()) if pd.notna(id) else id)"
   ]
  },
  {
   "cell_type": "code",
   "execution_count": 16,
   "metadata": {},
   "outputs": [],
   "source": [
    "food_ids = food_ids \\\n",
    "    .rename({0:'food_id'},axis=1) \\\n",
    "    .fillna(special_token_idxs['unknown']) \\\n",
    "    .astype('int')"
   ]
  },
  {
   "cell_type": "code",
   "execution_count": 17,
   "metadata": {},
   "outputs": [
    {
     "data": {
      "text/html": [
       "<div>\n",
       "<style scoped>\n",
       "    .dataframe tbody tr th:only-of-type {\n",
       "        vertical-align: middle;\n",
       "    }\n",
       "\n",
       "    .dataframe tbody tr th {\n",
       "        vertical-align: top;\n",
       "    }\n",
       "\n",
       "    .dataframe thead th {\n",
       "        text-align: right;\n",
       "    }\n",
       "</style>\n",
       "<table border=\"1\" class=\"dataframe\">\n",
       "  <thead>\n",
       "    <tr style=\"text-align: right;\">\n",
       "      <th></th>\n",
       "      <th></th>\n",
       "      <th>food_id</th>\n",
       "    </tr>\n",
       "    <tr>\n",
       "      <th>recipe</th>\n",
       "      <th>ingredient</th>\n",
       "      <th></th>\n",
       "    </tr>\n",
       "  </thead>\n",
       "  <tbody>\n",
       "    <tr>\n",
       "      <th rowspan=\"5\" valign=\"top\">0</th>\n",
       "      <th>0</th>\n",
       "      <td>812</td>\n",
       "    </tr>\n",
       "    <tr>\n",
       "      <th>1</th>\n",
       "      <td>973</td>\n",
       "    </tr>\n",
       "    <tr>\n",
       "      <th>2</th>\n",
       "      <td>272</td>\n",
       "    </tr>\n",
       "    <tr>\n",
       "      <th>3</th>\n",
       "      <td>1040</td>\n",
       "    </tr>\n",
       "    <tr>\n",
       "      <th>4</th>\n",
       "      <td>808</td>\n",
       "    </tr>\n",
       "    <tr>\n",
       "      <th>...</th>\n",
       "      <th>...</th>\n",
       "      <td>...</td>\n",
       "    </tr>\n",
       "    <tr>\n",
       "      <th rowspan=\"2\" valign=\"top\">204312</th>\n",
       "      <th>4</th>\n",
       "      <td>742</td>\n",
       "    </tr>\n",
       "    <tr>\n",
       "      <th>5</th>\n",
       "      <td>974</td>\n",
       "    </tr>\n",
       "    <tr>\n",
       "      <th rowspan=\"3\" valign=\"top\">204313</th>\n",
       "      <th>0</th>\n",
       "      <td>882</td>\n",
       "    </tr>\n",
       "    <tr>\n",
       "      <th>1</th>\n",
       "      <td>780</td>\n",
       "    </tr>\n",
       "    <tr>\n",
       "      <th>2</th>\n",
       "      <td>122</td>\n",
       "    </tr>\n",
       "  </tbody>\n",
       "</table>\n",
       "<p>1500000 rows × 1 columns</p>\n",
       "</div>"
      ],
      "text/plain": [
       "                   food_id\n",
       "recipe ingredient         \n",
       "0      0               812\n",
       "       1               973\n",
       "       2               272\n",
       "       3              1040\n",
       "       4               808\n",
       "...                    ...\n",
       "204312 4               742\n",
       "       5               974\n",
       "204313 0               882\n",
       "       1               780\n",
       "       2               122\n",
       "\n",
       "[1500000 rows x 1 columns]"
      ]
     },
     "execution_count": 17,
     "metadata": {},
     "output_type": "execute_result"
    }
   ],
   "source": [
    "food_ids"
   ]
  },
  {
   "cell_type": "code",
   "execution_count": 18,
   "metadata": {},
   "outputs": [
    {
     "data": {
      "text/html": [
       "<div>\n",
       "<style scoped>\n",
       "    .dataframe tbody tr th:only-of-type {\n",
       "        vertical-align: middle;\n",
       "    }\n",
       "\n",
       "    .dataframe tbody tr th {\n",
       "        vertical-align: top;\n",
       "    }\n",
       "\n",
       "    .dataframe thead th {\n",
       "        text-align: right;\n",
       "    }\n",
       "</style>\n",
       "<table border=\"1\" class=\"dataframe\">\n",
       "  <thead>\n",
       "    <tr style=\"text-align: right;\">\n",
       "      <th></th>\n",
       "      <th>0</th>\n",
       "      <th>1</th>\n",
       "      <th>2</th>\n",
       "      <th>3</th>\n",
       "      <th>4</th>\n",
       "      <th>5</th>\n",
       "      <th>6</th>\n",
       "      <th>7</th>\n",
       "      <th>8</th>\n",
       "      <th>9</th>\n",
       "      <th>10</th>\n",
       "      <th>11</th>\n",
       "      <th>12</th>\n",
       "      <th>13</th>\n",
       "      <th>14</th>\n",
       "    </tr>\n",
       "  </thead>\n",
       "  <tbody>\n",
       "    <tr>\n",
       "      <th>0</th>\n",
       "      <td>812</td>\n",
       "      <td>973.0</td>\n",
       "      <td>272.0</td>\n",
       "      <td>1040.0</td>\n",
       "      <td>808.0</td>\n",
       "      <td>339.0</td>\n",
       "      <td>NaN</td>\n",
       "      <td>NaN</td>\n",
       "      <td>NaN</td>\n",
       "      <td>NaN</td>\n",
       "      <td>NaN</td>\n",
       "      <td>NaN</td>\n",
       "      <td>NaN</td>\n",
       "      <td>NaN</td>\n",
       "      <td>NaN</td>\n",
       "    </tr>\n",
       "    <tr>\n",
       "      <th>1</th>\n",
       "      <td>618</td>\n",
       "      <td>417.0</td>\n",
       "      <td>837.0</td>\n",
       "      <td>810.0</td>\n",
       "      <td>NaN</td>\n",
       "      <td>NaN</td>\n",
       "      <td>NaN</td>\n",
       "      <td>NaN</td>\n",
       "      <td>NaN</td>\n",
       "      <td>NaN</td>\n",
       "      <td>NaN</td>\n",
       "      <td>NaN</td>\n",
       "      <td>NaN</td>\n",
       "      <td>NaN</td>\n",
       "      <td>NaN</td>\n",
       "    </tr>\n",
       "    <tr>\n",
       "      <th>2</th>\n",
       "      <td>286</td>\n",
       "      <td>773.0</td>\n",
       "      <td>808.0</td>\n",
       "      <td>847.0</td>\n",
       "      <td>807.0</td>\n",
       "      <td>59.0</td>\n",
       "      <td>NaN</td>\n",
       "      <td>NaN</td>\n",
       "      <td>NaN</td>\n",
       "      <td>NaN</td>\n",
       "      <td>NaN</td>\n",
       "      <td>NaN</td>\n",
       "      <td>NaN</td>\n",
       "      <td>NaN</td>\n",
       "      <td>NaN</td>\n",
       "    </tr>\n",
       "    <tr>\n",
       "      <th>3</th>\n",
       "      <td>417</td>\n",
       "      <td>417.0</td>\n",
       "      <td>837.0</td>\n",
       "      <td>1015.0</td>\n",
       "      <td>773.0</td>\n",
       "      <td>NaN</td>\n",
       "      <td>NaN</td>\n",
       "      <td>NaN</td>\n",
       "      <td>NaN</td>\n",
       "      <td>NaN</td>\n",
       "      <td>NaN</td>\n",
       "      <td>NaN</td>\n",
       "      <td>NaN</td>\n",
       "      <td>NaN</td>\n",
       "      <td>NaN</td>\n",
       "    </tr>\n",
       "    <tr>\n",
       "      <th>4</th>\n",
       "      <td>808</td>\n",
       "      <td>960.0</td>\n",
       "      <td>808.0</td>\n",
       "      <td>812.0</td>\n",
       "      <td>892.0</td>\n",
       "      <td>NaN</td>\n",
       "      <td>NaN</td>\n",
       "      <td>NaN</td>\n",
       "      <td>NaN</td>\n",
       "      <td>NaN</td>\n",
       "      <td>NaN</td>\n",
       "      <td>NaN</td>\n",
       "      <td>NaN</td>\n",
       "      <td>NaN</td>\n",
       "      <td>NaN</td>\n",
       "    </tr>\n",
       "    <tr>\n",
       "      <th>...</th>\n",
       "      <td>...</td>\n",
       "      <td>...</td>\n",
       "      <td>...</td>\n",
       "      <td>...</td>\n",
       "      <td>...</td>\n",
       "      <td>...</td>\n",
       "      <td>...</td>\n",
       "      <td>...</td>\n",
       "      <td>...</td>\n",
       "      <td>...</td>\n",
       "      <td>...</td>\n",
       "      <td>...</td>\n",
       "      <td>...</td>\n",
       "      <td>...</td>\n",
       "      <td>...</td>\n",
       "    </tr>\n",
       "    <tr>\n",
       "      <th>204301</th>\n",
       "      <td>1028</td>\n",
       "      <td>742.0</td>\n",
       "      <td>1021.0</td>\n",
       "      <td>1031.0</td>\n",
       "      <td>821.0</td>\n",
       "      <td>810.0</td>\n",
       "      <td>776.0</td>\n",
       "      <td>330.0</td>\n",
       "      <td>178.0</td>\n",
       "      <td>NaN</td>\n",
       "      <td>NaN</td>\n",
       "      <td>NaN</td>\n",
       "      <td>NaN</td>\n",
       "      <td>NaN</td>\n",
       "      <td>NaN</td>\n",
       "    </tr>\n",
       "    <tr>\n",
       "      <th>204302</th>\n",
       "      <td>2</td>\n",
       "      <td>59.0</td>\n",
       "      <td>1031.0</td>\n",
       "      <td>169.0</td>\n",
       "      <td>242.0</td>\n",
       "      <td>806.0</td>\n",
       "      <td>806.0</td>\n",
       "      <td>675.0</td>\n",
       "      <td>NaN</td>\n",
       "      <td>NaN</td>\n",
       "      <td>NaN</td>\n",
       "      <td>NaN</td>\n",
       "      <td>NaN</td>\n",
       "      <td>NaN</td>\n",
       "      <td>NaN</td>\n",
       "    </tr>\n",
       "    <tr>\n",
       "      <th>204303</th>\n",
       "      <td>286</td>\n",
       "      <td>807.0</td>\n",
       "      <td>776.0</td>\n",
       "      <td>742.0</td>\n",
       "      <td>286.0</td>\n",
       "      <td>773.0</td>\n",
       "      <td>874.0</td>\n",
       "      <td>NaN</td>\n",
       "      <td>NaN</td>\n",
       "      <td>NaN</td>\n",
       "      <td>NaN</td>\n",
       "      <td>NaN</td>\n",
       "      <td>NaN</td>\n",
       "      <td>NaN</td>\n",
       "      <td>NaN</td>\n",
       "    </tr>\n",
       "    <tr>\n",
       "      <th>204304</th>\n",
       "      <td>2</td>\n",
       "      <td>830.0</td>\n",
       "      <td>812.0</td>\n",
       "      <td>807.0</td>\n",
       "      <td>742.0</td>\n",
       "      <td>974.0</td>\n",
       "      <td>NaN</td>\n",
       "      <td>NaN</td>\n",
       "      <td>NaN</td>\n",
       "      <td>NaN</td>\n",
       "      <td>NaN</td>\n",
       "      <td>NaN</td>\n",
       "      <td>NaN</td>\n",
       "      <td>NaN</td>\n",
       "      <td>NaN</td>\n",
       "    </tr>\n",
       "    <tr>\n",
       "      <th>204305</th>\n",
       "      <td>882</td>\n",
       "      <td>780.0</td>\n",
       "      <td>122.0</td>\n",
       "      <td>NaN</td>\n",
       "      <td>NaN</td>\n",
       "      <td>NaN</td>\n",
       "      <td>NaN</td>\n",
       "      <td>NaN</td>\n",
       "      <td>NaN</td>\n",
       "      <td>NaN</td>\n",
       "      <td>NaN</td>\n",
       "      <td>NaN</td>\n",
       "      <td>NaN</td>\n",
       "      <td>NaN</td>\n",
       "      <td>NaN</td>\n",
       "    </tr>\n",
       "  </tbody>\n",
       "</table>\n",
       "<p>204306 rows × 15 columns</p>\n",
       "</div>"
      ],
      "text/plain": [
       "          0      1       2       3      4      5      6      7      8   9   \\\n",
       "0        812  973.0   272.0  1040.0  808.0  339.0    NaN    NaN    NaN NaN   \n",
       "1        618  417.0   837.0   810.0    NaN    NaN    NaN    NaN    NaN NaN   \n",
       "2        286  773.0   808.0   847.0  807.0   59.0    NaN    NaN    NaN NaN   \n",
       "3        417  417.0   837.0  1015.0  773.0    NaN    NaN    NaN    NaN NaN   \n",
       "4        808  960.0   808.0   812.0  892.0    NaN    NaN    NaN    NaN NaN   \n",
       "...      ...    ...     ...     ...    ...    ...    ...    ...    ...  ..   \n",
       "204301  1028  742.0  1021.0  1031.0  821.0  810.0  776.0  330.0  178.0 NaN   \n",
       "204302     2   59.0  1031.0   169.0  242.0  806.0  806.0  675.0    NaN NaN   \n",
       "204303   286  807.0   776.0   742.0  286.0  773.0  874.0    NaN    NaN NaN   \n",
       "204304     2  830.0   812.0   807.0  742.0  974.0    NaN    NaN    NaN NaN   \n",
       "204305   882  780.0   122.0     NaN    NaN    NaN    NaN    NaN    NaN NaN   \n",
       "\n",
       "        10  11  12  13  14  \n",
       "0      NaN NaN NaN NaN NaN  \n",
       "1      NaN NaN NaN NaN NaN  \n",
       "2      NaN NaN NaN NaN NaN  \n",
       "3      NaN NaN NaN NaN NaN  \n",
       "4      NaN NaN NaN NaN NaN  \n",
       "...     ..  ..  ..  ..  ..  \n",
       "204301 NaN NaN NaN NaN NaN  \n",
       "204302 NaN NaN NaN NaN NaN  \n",
       "204303 NaN NaN NaN NaN NaN  \n",
       "204304 NaN NaN NaN NaN NaN  \n",
       "204305 NaN NaN NaN NaN NaN  \n",
       "\n",
       "[204306 rows x 15 columns]"
      ]
     },
     "execution_count": 18,
     "metadata": {},
     "output_type": "execute_result"
    }
   ],
   "source": [
    "recipe_food_ids = pd.DataFrame(food_ids.groupby('recipe')['food_id'].aggregate(list).tolist()).loc[:,:14]\n",
    "recipe_food_ids"
   ]
  },
  {
   "cell_type": "code",
   "execution_count": 19,
   "metadata": {},
   "outputs": [
    {
     "data": {
      "text/plain": [
       "1"
      ]
     },
     "execution_count": 19,
     "metadata": {},
     "output_type": "execute_result"
    }
   ],
   "source": [
    "special_token_ids = ['pad','mask','unknown']\n",
    "special_token_ids.index('mask')"
   ]
  },
  {
   "cell_type": "code",
   "execution_count": 20,
   "metadata": {},
   "outputs": [
    {
     "data": {
      "text/plain": [
       "array([[812, 973, 272, ...,   0,   0,   0],\n",
       "       [618, 417, 837, ...,   0,   0,   0],\n",
       "       [286, 773, 808, ...,   0,   0,   0],\n",
       "       ...,\n",
       "       [286, 807, 776, ...,   0,   0,   0],\n",
       "       [  2, 830, 812, ...,   0,   0,   0],\n",
       "       [882, 780, 122, ...,   0,   0,   0]])"
      ]
     },
     "execution_count": 20,
     "metadata": {},
     "output_type": "execute_result"
    }
   ],
   "source": [
    "recipe_food_ids = recipe_food_ids \\\n",
    "    .fillna(special_token_idxs['pad']) \\\n",
    "    .astype('int') \\\n",
    "    .to_numpy()\n",
    "\n",
    "recipe_food_ids"
   ]
  },
  {
   "cell_type": "code",
   "execution_count": 21,
   "metadata": {},
   "outputs": [
    {
     "data": {
      "text/plain": [
       "dtype('int64')"
      ]
     },
     "execution_count": 21,
     "metadata": {},
     "output_type": "execute_result"
    }
   ],
   "source": [
    "recipe_food_ids.dtype"
   ]
  },
  {
   "cell_type": "markdown",
   "metadata": {},
   "source": [
    "#TODO: decide on best recipe size."
   ]
  },
  {
   "cell_type": "code",
   "execution_count": 22,
   "metadata": {},
   "outputs": [],
   "source": [
    "np.save('../../data/local/final/full/recipe_food_ids/0.npy', recipe_food_ids)"
   ]
  },
  {
   "cell_type": "markdown",
   "metadata": {},
   "source": [
    "# PyTorch Dataset & Dataloader"
   ]
  },
  {
   "cell_type": "markdown",
   "metadata": {},
   "source": [
    "Here each batch will have `batch_size` recipes. Each of these recipes will be fed into the model as:\n",
    "- x: food_ids with 15% of their foods masked with a `[MASK]` token. \n",
    "- y: food_ids without mask\n",
    "\n",
    "This will result in a matrix of size `batch_size` x `recipe_size` x `n_features`."
   ]
  },
  {
   "cell_type": "markdown",
   "metadata": {},
   "source": [
    "Problems:\n",
    "\n",
    "- Create numerous mask elements of each recipe.\n",
    "    - Will this cause overfit (data leakage -> feeding the model the answer)?\n",
    "    - Overfitting on large recipes (more possible mask combinations)?\n",
    "- Decision on where to get vectors.\n",
    "    - It's much easier to work with a dataset of tokens rather - so possibly in the model itself?"
   ]
  },
  {
   "cell_type": "markdown",
   "metadata": {},
   "source": [
    "Now we want to create a dataset of recipes with masked ingredients. How can we do this without creating duplicates?"
   ]
  },
  {
   "cell_type": "code",
   "execution_count": 31,
   "metadata": {},
   "outputs": [],
   "source": [
    "#| export\n",
    "class MaskedRecipeDataset(Dataset):\n",
    "\n",
    "    def __init__(self, recipes):\n",
    "        self.recipes = recipes\n",
    "    \n",
    "    def __len__(self):\n",
    "        return len(self.recipes) # should be able to have more than one here\n",
    "    \n",
    "    def create_recipe_mask(self, recipe):\n",
    "        recipe_size = (recipe != special_token_idxs['pad']).sum()\n",
    "        mask = torch.tensor(False)\n",
    "        while mask.sum() == torch.tensor(0):\n",
    "            rand = torch.rand(recipe_size)\n",
    "            mask = (rand < 0.15).to(bool)\n",
    "        recipe[:recipe_size][mask] = special_token_idxs['mask']\n",
    "        return recipe\n",
    "    \n",
    "    def __getitem__(self, idx):\n",
    "        if torch.is_tensor(idx): idx = idx.to_list()\n",
    "        recipe = self.recipes[idx]\n",
    "        recipe = torch.tensor(recipe, dtype=torch.int)\n",
    "        return (\n",
    "            self.create_recipe_mask(recipe.clone()).type(torch.int), \n",
    "            recipe.type(torch.int)\n",
    "        )"
   ]
  },
  {
   "cell_type": "code",
   "execution_count": 32,
   "metadata": {},
   "outputs": [
    {
     "data": {
      "text/plain": [
       "(tensor([1107, 1025, 1107,  667,  670,  633, 1107,  669,  670,  586, 1107,  105,\n",
       "         1106, 1106, 1106], dtype=torch.int32),\n",
       " tensor([ 825, 1025,  666,  667,  670,  633,  195,  669,  670,  586,  901,  105,\n",
       "         1106, 1106, 1106], dtype=torch.int32))"
      ]
     },
     "execution_count": 32,
     "metadata": {},
     "output_type": "execute_result"
    }
   ],
   "source": [
    "dataset = MaskedRecipeDataset(recipe_food_ids)\n",
    "dataset[0]"
   ]
  },
  {
   "cell_type": "code",
   "execution_count": 33,
   "metadata": {},
   "outputs": [],
   "source": [
    "assert special_token_idxs['mask'] in dataset[0][0] and special_token_idxs['mask'] not in dataset[0][1]"
   ]
  },
  {
   "cell_type": "code",
   "execution_count": 34,
   "metadata": {},
   "outputs": [],
   "source": [
    "dataloader = DataLoader(dataset, batch_size=10, shuffle=True, num_workers=10)"
   ]
  },
  {
   "cell_type": "code",
   "execution_count": 35,
   "metadata": {},
   "outputs": [
    {
     "data": {
      "text/plain": [
       "(torch.Size([10, 15]),\n",
       " torch.Size([10, 15]),\n",
       " tensor([1107,  669,  995,  131,  962,   13, 1106, 1106, 1106, 1106, 1106, 1106,\n",
       "         1106, 1106, 1106], dtype=torch.int32),\n",
       " tensor([ 664,  669,  995,  131,  962,   13, 1106, 1106, 1106, 1106, 1106, 1106,\n",
       "         1106, 1106, 1106], dtype=torch.int32))"
      ]
     },
     "execution_count": 35,
     "metadata": {},
     "output_type": "execute_result"
    }
   ],
   "source": [
    "xb, yb = next(iter(dataloader))\n",
    "xb.shape, yb.shape, xb[0], yb[0]"
   ]
  },
  {
   "cell_type": "code",
   "execution_count": 36,
   "metadata": {},
   "outputs": [],
   "source": [
    "from nbdev import nbdev_export; nbdev_export()"
   ]
  },
  {
   "cell_type": "code",
   "execution_count": null,
   "metadata": {},
   "outputs": [],
   "source": []
  }
 ],
 "metadata": {
  "kernelspec": {
   "display_name": "recipes",
   "language": "python",
   "name": "python3"
  },
  "language_info": {
   "codemirror_mode": {
    "name": "ipython",
    "version": 3
   },
   "file_extension": ".py",
   "mimetype": "text/x-python",
   "name": "python",
   "nbconvert_exporter": "python",
   "pygments_lexer": "ipython3",
   "version": "3.10.13"
  }
 },
 "nbformat": 4,
 "nbformat_minor": 2
}
