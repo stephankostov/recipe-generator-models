{
 "cells": [
  {
   "cell_type": "markdown",
   "metadata": {},
   "source": [
    "# Setup"
   ]
  },
  {
   "cell_type": "code",
   "execution_count": 1,
   "metadata": {},
   "outputs": [],
   "source": [
    "#| export\n",
    "from pyprojroot import here\n",
    "root = here()\n",
    "import sys\n",
    "sys.path.append(str(root))"
   ]
  },
  {
   "cell_type": "code",
   "execution_count": 2,
   "metadata": {},
   "outputs": [],
   "source": [
    "#| export\n",
    "import pandas as pd\n",
    "import numpy as np\n",
    "import torch\n",
    "import torch.nn as nn\n",
    "from torch.utils.data import DataLoader\n",
    "from torch.optim import AdamW\n",
    "import math"
   ]
  },
  {
   "cell_type": "markdown",
   "metadata": {},
   "source": [
    "# Introduction"
   ]
  },
  {
   "cell_type": "markdown",
   "metadata": {},
   "source": [
    "Here we want to build the model(s) architecture. "
   ]
  },
  {
   "cell_type": "markdown",
   "metadata": {},
   "source": [
    "## Problems \n",
    "\n",
    "- Can we not train this model with decision trees? \n",
    "    - Transformers make sense as they clearly factor in the input data and the relationships between them. (I also want practice with them).\n",
    "    - Unsure whether there is enough data to be able to support this model.\n",
    "    - Ultimately this is a classification problem. Can we not do this with decision trees?\n",
    "- Which Transformer Architecture?\n",
    "    - Too complex? Should I be looking into this at all? I am simply trying to implement a transformer model, BERT and GPT use this and have an additive portion onto it. It might not be worth considering.\n",
    "    - BERT raises interest because of its bidirectional attention. However is this needed? Our problem can be framed as such, as all we want in the end is a model that can predict a good next ingredient, given the ingredients that are already there.\n",
    "        - The only thing worth considering here is using it for assigning quantities. Depending on how this is done, it would be useful to be able to know all of the ingredients before assigning quantities to them. \n",
    "            - Worth considering here is whether there is a much simpler model that could be used to assign quantities from token embeddings?\n",
    "    - Research:\n",
    "        - [What Language Model Architecture and Pretraining Objective Work Best for Zero-Shot Generalization?\n",
    "        ](https://arxiv.org/abs/2204.05832)\n",
    "            - Reddit: TLDR: Decoder only works better if all you're doing is unsupervised pre-training and hoping it generalizes, but encoder decoder works better if you can do multi-task fine tuning, and it's not TOO hard to convert models between the two architectures. Worth noting that this paper predates RLHF, so it's probably the case that decoder only + RLHF (e.g. Chat-GPT) outperforms encoder-decoder + multi-task fine tuning (e.g. Flan-T5).\n",
    "        - [Decoder-Only or Encoder-Decoder? Interpreting Language Model as a Regularized Encoder-Decoder](https://arxiv.org/abs/2304.04052)\n",
    "        - Reddit: The reason you'd use encoder-decoder models over decoder-only models is if you expect the inputs to differ in nature wrt the outputs somehow. What T5 had was a \"task/query encoder\", whereas the decoder was the actual generative model. T5 was a step in blurring the line between NLP tasks and pure language modeling. You can see decoder-only LLMs as the definitive way of breaking this distinction.\n",
    "- Predicting Foods and Quantities\n",
    "    - This could be approached either by finding a way of modelling both simultaneously (seems possible), or for simplicity (as I am just starting out), splitting both tasks to separate models.\n",
    "        - As I am just starting out and developing my understanding of transformers I will split the problem up, firslty by starting to generate foods only.\n",
    "        - Intuitively, it makes sense if there was one model that could produce both foods and quantities. The choice of the next food does depend on the quantity of foods already present. \n",
    "        - It does seem possible to add the quantity to the model, mathematically it is simply just a multiplier. However I'd need a deeper understanding of how predictions are made, and understood by the model.\n",
    "- Penalising Duplicates: no matter which type of architecture is chosen, there is still the problem that keeps coming up of the model predicting tokens which are already in the series.\n",
    "    - Loss function penalty: modifying the cross entropy loss to add a penalty for duplicate terms.\n",
    "    - Emergent property: if all duplicates from recipes were removed, could the model learn this itself?\n",
    "        - This should be tested roughly. But this might be something that emerges much later on in training, and possibly with much larger models.\n",
    "    - Other penalty methods: Not sure if there are other ways of doing so without involving the loss - though not actually required.\n",
    "    - [Aligned Cross Entropy for Non-Autoregressive Machine Translation](https://proceedings.mlr.press/v119/ghazvininejad20a/ghazvininejad20a.pdf)\n",
    "- Loss Function\n",
    "    - The autoregressive approach looks to be the best one here. When doing this we should modify our loss function so that our results should be position independant. The way this could be done is evaluating all labels simultaneously in one line, which effectively changes it from multiple multi-class classification problems (for each token prediction) into a single multi-label classification problem. The outputs here should contain one single combined logits vector, from which the top `n_predictions` tokens would be selected."
   ]
  },
  {
   "cell_type": "markdown",
   "metadata": {},
   "source": [
    "### Notes \n",
    "\n",
    "- Guide calls feed forward networks PositionWiseFeedForward - is there anything special that makes them positional, or is this name for guidance?"
   ]
  },
  {
   "cell_type": "markdown",
   "metadata": {},
   "source": [
    "### Approach"
   ]
  },
  {
   "cell_type": "markdown",
   "metadata": {},
   "source": [
    "What should the approach be here. It's a good idea to start simple all the way to the end, and build my way up incrementally. However how simple do we want / can we go? \n",
    "\n",
    "It makes sense to use a transformer, as the attention mechanism is what will be driving the predictions here. If we started with something even more simple, ie. a linear layer, we would need a way of feeding in the input data, in order to form predictions for the output ie. the masked tokens. This method of feeding in the input data would be something very crude, like adding the token vectors together. It just wouldn't work.\n",
    "\n",
    "Let's use a transformer. It could be simple if thought of as a black-box, where all my focus would be just getting it to run. The other option is to write my own version of a transformer (with references), with an attempt to make it as simple as possible. ie. single layer feed-forward networks, single head of attention, no other masking, no misc techiniques such as dropout etc."
   ]
  },
  {
   "cell_type": "markdown",
   "metadata": {},
   "source": [
    "# Model Choice"
   ]
  },
  {
   "cell_type": "markdown",
   "metadata": {},
   "source": [
    "Transformers are chosen here for their attention mechanism. The information required in a recipe generator here are the tokens that are already present - precisely what the attention mechanism serves.\n",
    "\n",
    "It fits our problem exactly. We need a model that is able to take into the account the relationship between the tokens in the recipe (that is the only data that it is given), and is exacly what the attention mechanism does. It is able to learn relationships between tokens and with this predict what tokens would be best to output. \n",
    "\n",
    "This learnable network mechanism allows the model to learn not only pairwise relationships but higher order ones too to encode the set.\n",
    "\n",
    "For the past week I've been implementing various models, and through that understanding a lot more about them and their varying types. It's nice to have my knowledge cleared up about them - I've found an article that frames the problem that I've been having perfectly (autoregression vs autoencoders). This is the type of thing that I feel silly not knowing, but I need to keep in mind that in retrospect I really didn't have a clear sight of the exact problem, and that I needed to explore to find it."
   ]
  },
  {
   "cell_type": "markdown",
   "metadata": {},
   "source": [
    "## Autoregressive or Not\n",
    "\n",
    "https://huggingface.co/transformers/v3.1.0/model_summary.html - An excellently simple summary of all the questions I've been having. \"Note that the only difference between autoregressive models and autoencoding models is in the way the model is pretrained. Therefore, the same architecture can be used for both autoregressive and autoencoding models. When a given model has been used for both types of pretraining, we have put it in the category corresponding to the article where it was first introduced.\"\n",
    "\n",
    "### Intuitions\n",
    "\n",
    "Intuitive: When it comes to pretraining, a self-supervised masking makes more sense intuitively. It will be able to be trained accurately when masking, and following this it can be trained again to be used for text generation.\n",
    "\n",
    "Faster: Non-autoregressive machine translation models can signif- icantly improve decoding speed by predicting every word in parallel (Gu et al., 2018; Libovicky ́ & Helcl, 2018). This advantage comes at a cost to performance since modeling word order is trickier when the model cannot condition on its previous predictions. https://arxiv.org/abs/1905.11006\n",
    "\n",
    "### Assumptions \n",
    "\n",
    "- Autoregressive model training would involve a high rate of error by asking it to predict all tokens from only one previous context.\n",
    "    - This would cause the model to generalise more? It will try very hard to compensate and minimise this error, choosing very highly probable ingredients (eg. cheese).\n",
    "    - Counterargument: We could pretrain it in stages, with more context in the first stage, and decreasing the minimum context later on.\n",
    "\n",
    "### Research\n",
    "\n",
    "- Counteragument: \"It has been argued that the pre-training objective used by BERT is not well suited for tasks that require decoding texts, e.g., conditional text generation in machine translation and summarization ([Yang et al., 2019](https://arxiv.org/abs/1906.08237))\" #TODO: see details\n",
    "- \"Non-autoregressive machine translation models significantly speed up decoding by allowing for parallel prediction of the entire target sequence. However, modeling word order is more challenging due to the lack of autoregressive factors in the model. https://proceedings.mlr.press/v119/ghazvininejad20a/ghazvininejad20a.pdf \n",
    "    - We don't require ordering which according to this is the main challenge. This might be a reason that this would work for our case?\n",
    "\n",
    "### Decision\n",
    "\n",
    "For our task, it does seem like autoregressive models would be best. They are more accurate, as they can evaluate each one token at a time. The cons of this is that they are slower to train (work sequentially rather than in parallel) - which we are not so concerned about as we have a small dataset with small sequences."
   ]
  },
  {
   "cell_type": "markdown",
   "metadata": {},
   "source": [
    "## Encoder vs Decoder\n",
    "\n",
    "Maybe that article isn't entirely what's worth considering. We can also formulate our problem as Encoder vs Decoder vs Encoder-Decoder architectures."
   ]
  },
  {
   "cell_type": "markdown",
   "metadata": {},
   "source": [
    "## Loss Function\n",
    "\n",
    "Overlooked slightly, the loss function here will be important. We don't care for positions, so the loss function here needs to also be fluid in this. It should have a way of comparing the whole context with the whole labels. \n",
    "\n",
    "### Research\n",
    "\n",
    "Through a conversation with chatGPT, I've found a number of options, all of which might interlink with eachother.\n",
    "\n",
    "- Set Transformer: Position invariant architecture\n",
    "- Max/Sum Pooling: This is pretty much what I've been doing with the loss function\n",
    "- Permutation Invariant Loss: N! complexity\n",
    "- Shuffling data: Keeping everything the same but training the model with shuffled order of tokens (in each epoch?) to make it robust to order. This is Data Augmentation - it would be better if we came up with a architectural method ƒor the model to solve this problem, rather than relying on the possibility for it to learn this through Data Augmentation.\n",
    "\n",
    "#### Set Transformer\n",
    "\n",
    "https://arxiv.org/abs/1703.06114\n",
    "https://arxiv.org/abs/1810.00825\n",
    "\n",
    "This should have some value here, but how much so I'm not sure. We could be able to take just a part of it if needed. Regardless I'll learn a lot about \"position invariant\" ML problems.\n",
    "\n",
    "##### Pooling\n",
    "\n",
    "Here the decoder part of the architecture involves a sum pooling, which actually defines a position invariant model.\n",
    "\n",
    "##### Attention Heads\n",
    "\n",
    "What I know about attention is that it is already position invariant (hence the need for positional embeddings). However I am not certain, and the paper could highlight somehting I'm not correct in.\n",
    "\n",
    "Reducing attention's $O(n^2)$ complexity to $O(n)$ - is this a vital part of the architecture, or can it be separated out? We don't need this component, dot product wokrs well and is effective. This is only for problems where $n >> 1$. It is mentioned at the end that the set operations are permutation equivariant - but doesn't mention how. Appendix? I'm not sure if anything is done here - what I already know about attention is that it is position invariant - I could be wrong."
   ]
  },
  {
   "cell_type": "markdown",
   "metadata": {},
   "source": [
    "## Questions"
   ]
  },
  {
   "cell_type": "markdown",
   "metadata": {},
   "source": [
    "How are token probabilites (logits) created from a list of tokens? \n",
    "\n",
    "This seems to be really simple, it's done by a linear model which takes n_tokens as inputs, and generates a n_tokens x n_vocab probability vector."
   ]
  },
  {
   "cell_type": "markdown",
   "metadata": {},
   "source": [
    "## Problems "
   ]
  },
  {
   "cell_type": "code",
   "execution_count": null,
   "metadata": {},
   "outputs": [],
   "source": []
  },
  {
   "cell_type": "markdown",
   "metadata": {},
   "source": [
    "# Data Preparation"
   ]
  },
  {
   "cell_type": "markdown",
   "metadata": {},
   "source": [
    "Here each batch will have `batch_size` recipes. Each of these recipes will be fed into the model as:\n",
    "- x: food_ids with 15% of their foods masked with a `[MASK]` token. \n",
    "- y: food_ids without mask\n",
    "\n",
    "This will result in a matrix of size `batch_size` x `recipe_size` x `n_features`."
   ]
  },
  {
   "cell_type": "markdown",
   "metadata": {},
   "source": [
    "Problems:\n",
    "\n",
    "- Create numerous mask elements of each recipe.\n",
    "    - Will this cause overfit (data leakage -> feeding the model the answer)?\n",
    "    - Overfitting on large recipes (more possible mask combinations)?\n",
    "- Decision on where to get vectors.\n",
    "    - It's much easier to work with a dataset of tokens rather - so possibly in the model itself?"
   ]
  },
  {
   "cell_type": "markdown",
   "metadata": {},
   "source": [
    "Now we want to create a dataset of recipes with masked ingredients. How can we do this without creating duplicates?"
   ]
  },
  {
   "cell_type": "markdown",
   "metadata": {},
   "source": [
    "# Training"
   ]
  },
  {
   "cell_type": "markdown",
   "metadata": {},
   "source": [
    "Here we want to get a model to run on our data. We will just use a black-box pytorch Transformer (which output the same dimension vector as the inputs?).\n",
    "\n",
    "There are a number of reasons we aren't expecting quality predictions:\n",
    "\n",
    "- Data\n",
    "    - Small dataset sample\n",
    "    - Not scaled\n",
    "- Model\n",
    "    - Parameter initialisation (might be built in)\n",
    "    - Incorrect loss function (should evalute only masks - transformer is not predicing it is transforming here)\n",
    "    - Architecture optimisations - probably unnecessary."
   ]
  },
  {
   "cell_type": "markdown",
   "metadata": {},
   "source": [
    "https://www.datacamp.com/tutorial/building-a-transformer-with-py-torch\n",
    "https://github.com/huggingface/transformers/blob/main/examples/pytorch/language-modeling/run_mlm.py"
   ]
  },
  {
   "cell_type": "code",
   "execution_count": 3,
   "metadata": {},
   "outputs": [],
   "source": [
    "device = 'cuda' if torch.cuda.is_available() else 'cpu'\n",
    "\n",
    "batch_size = 2\n",
    "n_epochs = 5000\n",
    "learning_rate = 1e-3"
   ]
  },
  {
   "cell_type": "code",
   "execution_count": 4,
   "metadata": {},
   "outputs": [
    {
     "data": {
      "text/plain": [
       "(tensor([[0.0000, 0.0000, 0.1093,  ..., 0.0000, 0.0000, 0.0000],\n",
       "         [0.0000, 0.0000, 0.1093,  ..., 0.0000, 0.0000, 1.2232],\n",
       "         [0.0000, 0.0000, 0.1093,  ..., 0.0000, 0.0000, 0.0000],\n",
       "         ...,\n",
       "         [0.0000, 0.0000, 0.0000,  ..., 0.0000, 0.0000, 0.0000],\n",
       "         [0.0000, 0.0000, 0.0000,  ..., 0.0000, 0.0000, 0.0000],\n",
       "         [1.0000, 1.0000, 1.0000,  ..., 1.0000, 1.0000, 1.0000]],\n",
       "        device='cuda:0'),\n",
       " torch.Size([1108, 713]))"
      ]
     },
     "execution_count": 4,
     "metadata": {},
     "output_type": "execute_result"
    }
   ],
   "source": [
    "food_vectors = torch.tensor(np.load('../../data/local/final/food_compounds/0.npy'), dtype=torch.float).to(device)\n",
    "food_vectors, food_vectors.shape"
   ]
  },
  {
   "cell_type": "code",
   "execution_count": 5,
   "metadata": {},
   "outputs": [
    {
     "data": {
      "text/plain": [
       "((302, 15), (241, 15), (61, 15))"
      ]
     },
     "execution_count": 5,
     "metadata": {},
     "output_type": "execute_result"
    }
   ],
   "source": [
    "data_ratios = [0.8, 0.2]\n",
    "\n",
    "data = np.load('../../data/local/final/recipe_food_ids/0.npy')\n",
    "\n",
    "np.random.shuffle(data)\n",
    "\n",
    "data_train = data[:int(data_ratios[0]*len(data))]\n",
    "data_validation = data[int(data_ratios[0]*len(data)):]\n",
    "\n",
    "data.shape, data_train.shape, data_validation.shape"
   ]
  },
  {
   "cell_type": "code",
   "execution_count": 6,
   "metadata": {},
   "outputs": [
    {
     "data": {
      "text/plain": [
       "torch.Size([2, 15])"
      ]
     },
     "execution_count": 6,
     "metadata": {},
     "output_type": "execute_result"
    }
   ],
   "source": [
    "train_dl = DataLoader(MaskedRecipeDataset(data), batch_size=batch_size, shuffle=True)\n",
    "validation_dl = DataLoader(MaskedRecipeDataset(data), batch_size=batch_size, shuffle=False)\n",
    "\n",
    "xb, yb = next(iter(train_dl))\n",
    "xb.shape"
   ]
  },
  {
   "cell_type": "code",
   "execution_count": 19,
   "metadata": {},
   "outputs": [],
   "source": [
    "model = nn.Transformer(\n",
    "    d_model=food_vectors.shape[1], \n",
    "    nhead=1,\n",
    "    num_encoder_layers=1,\n",
    "    num_decoder_layers=1,\n",
    "    dim_feedforward=800,\n",
    "    dropout=0,\n",
    "    batch_first=True\n",
    ")\n",
    "\n",
    "model.to(device)\n",
    "\n",
    "loss_func = nn.CrossEntropyLoss() #TODO: make custom to only measure masked loss\n",
    "\n",
    "optimizer = AdamW(model.parameters(), lr=learning_rate)"
   ]
  },
  {
   "cell_type": "code",
   "execution_count": 20,
   "metadata": {},
   "outputs": [
    {
     "name": "stdout",
     "output_type": "stream",
     "text": [
      "8.403592 M parameters\n"
     ]
    }
   ],
   "source": [
    "print(sum(p.numel() for p in model.parameters())/1e6, 'M parameters')"
   ]
  },
  {
   "cell_type": "code",
   "execution_count": 42,
   "metadata": {},
   "outputs": [],
   "source": [
    "training_metrics = []\n",
    "\n",
    "for epoch in range(n_epochs):\n",
    "\n",
    "    # get sample of data\n",
    "    xb, yb = next(iter(train_dl))\n",
    "    xb = torch.stack([food_vectors[b] for b in xb]).to(device)\n",
    "    yb = torch.stack([food_vectors[b] for b in yb]).to(device)\n",
    "\n",
    "    # evaluate loss \n",
    "    output = model(xb,yb)\n",
    "    train_loss = loss_func(output, yb)\n",
    "    optimizer.zero_grad(set_to_none=True)\n",
    "    train_loss.backward()\n",
    "    optimizer.step()\n",
    "\n",
    "    if epoch % 10 == 0:\n",
    "\n",
    "        xb_validation, yb_validation = next(iter(validation_dl))\n",
    "        xb_validation = torch.stack([food_vectors[b] for b in xb_validation])\n",
    "        yb_validation = torch.stack([food_vectors[b] for b in yb_validation])\n",
    "\n",
    "        with torch.no_grad():\n",
    "            output = model(xb_validation, yb_validation)\n",
    "            validation_loss = loss_func(output, yb_validation)\n",
    "\n",
    "        training_metrics.append({\n",
    "            'epoch': epoch, 'train_loss': train_loss.to('cpu'), 'validation_loss': validation_loss.to('cpu'), 'validation_output': output, 'validation_target': yb_validation\n",
    "        })"
   ]
  },
  {
   "cell_type": "code",
   "execution_count": 31,
   "metadata": {},
   "outputs": [
    {
     "data": {
      "text/plain": [
       "tensor([[ 0.3616, -0.0326,  1.7352,  ..., -0.2227,  0.2965,  1.3963],\n",
       "        [ 0.6556,  0.1868, -0.5410,  ..., -0.0951,  0.1144, -0.0409],\n",
       "        [ 0.2447, -0.1630,  2.5954,  ..., -0.2422,  0.3562,  2.0182],\n",
       "        ...,\n",
       "        [ 0.1364,  0.1424, -1.5657,  ...,  0.1731, -0.2873, -0.8852],\n",
       "        [ 0.1364,  0.1424, -1.5657,  ...,  0.1731, -0.2873, -0.8852],\n",
       "        [ 0.1364,  0.1424, -1.5657,  ...,  0.1731, -0.2873, -0.8852]],\n",
       "       device='cuda:0')"
      ]
     },
     "execution_count": 31,
     "metadata": {},
     "output_type": "execute_result"
    }
   ],
   "source": [
    "training_metrics[100]['validation_output'][0]"
   ]
  },
  {
   "cell_type": "code",
   "execution_count": 41,
   "metadata": {},
   "outputs": [
    {
     "name": "stdout",
     "output_type": "stream",
     "text": [
      "(52.035335420633324, 1107)\n",
      "(53.093309950026395, 637)\n",
      "(46.967519409145034, 1107)\n",
      "(52.05657858237572, 1107)\n",
      "(44.23627402110186, 1106)\n",
      "(44.23627402110186, 1106)\n",
      "(44.23627402110186, 1106)\n",
      "(44.23627402110186, 1106)\n",
      "(44.23627402110186, 1106)\n",
      "(44.23627402110186, 1106)\n",
      "(44.23627402110186, 1106)\n",
      "(44.23627402110186, 1106)\n",
      "(44.23627402110186, 1106)\n",
      "(44.23627402110186, 1106)\n",
      "(44.23627402110186, 1106)\n"
     ]
    }
   ],
   "source": [
    "from scipy import spatial\n",
    "\n",
    "tree = spatial.KDTree(food_vectors.to('cpu'))\n",
    "\n",
    "output = training_metrics[100]['validation_output'][0].to('cpu')\n",
    "\n",
    "for food in output:\n",
    "    print(tree.query(food))"
   ]
  },
  {
   "cell_type": "code",
   "execution_count": 43,
   "metadata": {},
   "outputs": [
    {
     "name": "stdout",
     "output_type": "stream",
     "text": [
      "(0.0, 269)\n",
      "(0.0, 631)\n",
      "(0.0, 460)\n",
      "(0.0, 13)\n",
      "(0.0, 1106)\n",
      "(0.0, 1106)\n",
      "(0.0, 1106)\n",
      "(0.0, 1106)\n",
      "(0.0, 1106)\n",
      "(0.0, 1106)\n",
      "(0.0, 1106)\n",
      "(0.0, 1106)\n",
      "(0.0, 1106)\n",
      "(0.0, 1106)\n",
      "(0.0, 1106)\n"
     ]
    }
   ],
   "source": [
    "output = training_metrics[100]['validation_target'][0].to('cpu')\n",
    "\n",
    "for food in output:\n",
    "    print(tree.query(food))"
   ]
  },
  {
   "cell_type": "markdown",
   "metadata": {},
   "source": [
    "That's not good. We are transforming the tokens mostly to masked tokens."
   ]
  },
  {
   "cell_type": "code",
   "execution_count": 44,
   "metadata": {},
   "outputs": [
    {
     "data": {
      "text/plain": [
       "[<matplotlib.lines.Line2D at 0x7fdcd07c2500>]"
      ]
     },
     "execution_count": 44,
     "metadata": {},
     "output_type": "execute_result"
    },
    {
     "data": {
      "image/png": "[encoded data removed]",
      "text/plain": [
       "<Figure size 640x480 with 1 Axes>"
      ]
     },
     "metadata": {},
     "output_type": "display_data"
    }
   ],
   "source": [
    "import matplotlib.pyplot as plt\n",
    "\n",
    "plt.plot([m['train_loss'].detach().numpy() for m in training_metrics])"
   ]
  },
  {
   "cell_type": "markdown",
   "metadata": {},
   "source": [
    "# Creating Own Model"
   ]
  },
  {
   "cell_type": "markdown",
   "metadata": {},
   "source": [
    "Questions to ask before:\n",
    "\n",
    "We are looking for predictions of only the masked tokens, as a set of probabilities (logits) for every possible token. ie. `[batch_size, n_masks, n_tokens]`. How do the models achieve this? If understood I could implement this into the PyTorch easily.\n",
    "\n",
    "- https://github.com/dhlee347/pytorchic-bert/tree/master\n",
    "- https://github.com/karpathy/ng-video-lecture/blob/master/gpt.py#L41\n",
    "    - requires reshifting of data generation (which is easily possible) but not sure if it will help improve results."
   ]
  },
  {
   "cell_type": "markdown",
   "metadata": {},
   "source": [
    "Questions when looking through BERT to try to figure it out. \n",
    "\n",
    "Where is the masking done? Is it done in the data loading stage, or is it done in the model itself?"
   ]
  }
 ],
 "metadata": {
  "kernelspec": {
   "display_name": "recipes",
   "language": "python",
   "name": "python3"
  },
  "language_info": {
   "codemirror_mode": {
    "name": "ipython",
    "version": 3
   },
   "file_extension": ".py",
   "mimetype": "text/x-python",
   "name": "python",
   "nbconvert_exporter": "python",
   "pygments_lexer": "ipython3",
   "version": "3.10.13"
  }
 },
 "nbformat": 4,
 "nbformat_minor": 2
}
